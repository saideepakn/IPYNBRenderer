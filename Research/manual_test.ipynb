{
 "cells": [
  {
   "cell_type": "code",
   "execution_count": 1,
   "metadata": {},
   "outputs": [],
   "source": [
    "from IPYNBrenderer import render_Youtube_video"
   ]
  },
  {
   "cell_type": "code",
   "execution_count": 2,
   "metadata": {},
   "outputs": [],
   "source": [
    "URL1 = \"https://www.youtube.com/watch?v=roO5VGxOw2s\"\n",
    "URL2 = \"https://youtu.be/roO5VGxOw2s\"\n",
    "URL3 = \"https://youtu.be/roO5VGxOw2s?t=60\"\n",
    "URL4 = \"https://www.youtube.com/watch?v=roO5VGxOw2s&t=60s\""
   ]
  },
  {
   "cell_type": "code",
   "execution_count": 3,
   "metadata": {},
   "outputs": [
    {
     "name": "stdout",
     "output_type": "stream",
     "text": [
      "[2024-08-22 17:41:00,445: INFO: youtube]: video starts at: 0\n",
      "[2024-08-22 17:41:00,446: INFO: youtube]: embed URL: https://www.youtube.com/embed/roO5VGxOw2s?start=0\n"
     ]
    },
    {
     "data": {
      "text/html": [
       "\n",
       "            <iframe width=\"780\" height=\"600\" \n",
       "            src=\"https://www.youtube.com/embed/roO5VGxOw2s?start=0\" \n",
       "            title=\"YouTube video player\" frameborder=\"0\" allow=\"accelerometer; \n",
       "            autoplay; clipboard-write; encrypted-media; gyroscope; \n",
       "            picture-in-picture; web-share\" \n",
       "            referrerpolicy=\"strict-origin-when-cross-origin\" \n",
       "            allowfullscreen>\n",
       "            </iframe>\n",
       "            "
      ],
      "text/plain": [
       "<IPython.core.display.HTML object>"
      ]
     },
     "metadata": {},
     "output_type": "display_data"
    },
    {
     "data": {
      "text/plain": [
       "'success'"
      ]
     },
     "execution_count": 3,
     "metadata": {},
     "output_type": "execute_result"
    }
   ],
   "source": [
    "render_Youtube_video(URL1)"
   ]
  },
  {
   "cell_type": "code",
   "execution_count": 5,
   "metadata": {},
   "outputs": [
    {
     "name": "stdout",
     "output_type": "stream",
     "text": [
      "[2024-08-22 17:43:16,240: INFO: youtube]: video starts at: 0\n",
      "[2024-08-22 17:43:16,242: INFO: youtube]: embed URL: https://www.youtube.com/embed/roO5VGxOw2s?start=0\n"
     ]
    },
    {
     "data": {
      "text/html": [
       "\n",
       "            <iframe width=\"780\" height=\"600\" \n",
       "            src=\"https://www.youtube.com/embed/roO5VGxOw2s?start=0\" \n",
       "            title=\"YouTube video player\" frameborder=\"0\" allow=\"accelerometer; \n",
       "            autoplay; clipboard-write; encrypted-media; gyroscope; \n",
       "            picture-in-picture; web-share\" \n",
       "            referrerpolicy=\"strict-origin-when-cross-origin\" \n",
       "            allowfullscreen>\n",
       "            </iframe>\n",
       "            "
      ],
      "text/plain": [
       "<IPython.core.display.HTML object>"
      ]
     },
     "metadata": {},
     "output_type": "display_data"
    },
    {
     "data": {
      "text/plain": [
       "'success'"
      ]
     },
     "execution_count": 5,
     "metadata": {},
     "output_type": "execute_result"
    }
   ],
   "source": [
    "render_Youtube_video(URL2)"
   ]
  },
  {
   "cell_type": "code",
   "execution_count": 6,
   "metadata": {},
   "outputs": [
    {
     "name": "stdout",
     "output_type": "stream",
     "text": [
      "[2024-08-22 17:43:26,727: INFO: youtube]: video starts at: 60\n",
      "[2024-08-22 17:43:26,728: INFO: youtube]: embed URL: https://www.youtube.com/embed/roO5VGxOw2s?start=60\n"
     ]
    },
    {
     "data": {
      "text/html": [
       "\n",
       "            <iframe width=\"780\" height=\"600\" \n",
       "            src=\"https://www.youtube.com/embed/roO5VGxOw2s?start=60\" \n",
       "            title=\"YouTube video player\" frameborder=\"0\" allow=\"accelerometer; \n",
       "            autoplay; clipboard-write; encrypted-media; gyroscope; \n",
       "            picture-in-picture; web-share\" \n",
       "            referrerpolicy=\"strict-origin-when-cross-origin\" \n",
       "            allowfullscreen>\n",
       "            </iframe>\n",
       "            "
      ],
      "text/plain": [
       "<IPython.core.display.HTML object>"
      ]
     },
     "metadata": {},
     "output_type": "display_data"
    },
    {
     "data": {
      "text/plain": [
       "'success'"
      ]
     },
     "execution_count": 6,
     "metadata": {},
     "output_type": "execute_result"
    }
   ],
   "source": [
    "render_Youtube_video(URL3)"
   ]
  },
  {
   "cell_type": "code",
   "execution_count": 7,
   "metadata": {},
   "outputs": [
    {
     "name": "stdout",
     "output_type": "stream",
     "text": [
      "[2024-08-22 17:43:34,601: INFO: youtube]: video starts at: 60\n",
      "[2024-08-22 17:43:34,602: INFO: youtube]: embed URL: https://www.youtube.com/embed/roO5VGxOw2s?start=60\n"
     ]
    },
    {
     "data": {
      "text/html": [
       "\n",
       "            <iframe width=\"780\" height=\"600\" \n",
       "            src=\"https://www.youtube.com/embed/roO5VGxOw2s?start=60\" \n",
       "            title=\"YouTube video player\" frameborder=\"0\" allow=\"accelerometer; \n",
       "            autoplay; clipboard-write; encrypted-media; gyroscope; \n",
       "            picture-in-picture; web-share\" \n",
       "            referrerpolicy=\"strict-origin-when-cross-origin\" \n",
       "            allowfullscreen>\n",
       "            </iframe>\n",
       "            "
      ],
      "text/plain": [
       "<IPython.core.display.HTML object>"
      ]
     },
     "metadata": {},
     "output_type": "display_data"
    },
    {
     "data": {
      "text/plain": [
       "'success'"
      ]
     },
     "execution_count": 7,
     "metadata": {},
     "output_type": "execute_result"
    }
   ],
   "source": [
    "render_Youtube_video(URL4)"
   ]
  }
 ],
 "metadata": {
  "kernelspec": {
   "display_name": "Python 3",
   "language": "python",
   "name": "python3"
  },
  "language_info": {
   "codemirror_mode": {
    "name": "ipython",
    "version": 3
   },
   "file_extension": ".py",
   "mimetype": "text/x-python",
   "name": "python",
   "nbconvert_exporter": "python",
   "pygments_lexer": "ipython3",
   "version": "3.10.14"
  }
 },
 "nbformat": 4,
 "nbformat_minor": 2
}
